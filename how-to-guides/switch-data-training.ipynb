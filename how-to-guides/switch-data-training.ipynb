{
 "cells": [
  {
   "cell_type": "markdown",
   "metadata": {},
   "source": [
    "User can easily switch data provider during the training using\n",
    "`~ignite.engine.engine.Engine.set_data`. See an example in the\n",
    "documentation of the method."
   ]
  }
 ],
 "nbformat": 4,
 "nbformat_minor": 5,
 "metadata": {}
}
