{
 "cells": [
  {
   "cell_type": "markdown",
   "id": "39cb5c03",
   "metadata": {},
   "source": [
    "# How to switch data provider during training\n",
    "\n",
    "User can easily switch data provider during the training using\n",
    "[`set_data()`](https://pytorch.org/ignite/v0.4.5/generated/ignite.engine.engine.Engine.html#ignite.engine.engine.Engine.set_data). See an example in the\n",
    "documentation of the method."
   ]
  },
  {
   "cell_type": "code",
   "execution_count": null,
   "id": "b66e04dc-7825-4a2c-aba1-75b8388b10d6",
   "metadata": {},
   "outputs": [],
   "source": [
    "from ignite.engine import Engine\n",
    "\n",
    "data1 = ...\n",
    "data2 = ...\n",
    "\n",
    "switch_iteration = 5000\n",
    "\n",
    "def train_step(e, batch):\n",
    "    # when iteration <= switch_iteration\n",
    "    # batch is from data1\n",
    "    # when iteration > switch_iteration\n",
    "    # batch is from data2\n",
    "    ...\n",
    "\n",
    "trainer = Engine(train_step)\n",
    "\n",
    "@trainer.on(Events.ITERATION_COMPLETED(once=switch_iteration))\n",
    "def switch_dataloader():\n",
    "    trainer.set_data(data2)\n",
    "\n",
    "trainer.run(data1, max_epochs=100)\n"
   ]
  }
 ],
 "metadata": {
  "kernelspec": {
   "display_name": "Python 3 (ipykernel)",
   "language": "python",
   "name": "python3"
  },
  "language_info": {
   "codemirror_mode": {
    "name": "ipython",
    "version": 3
   },
   "file_extension": ".py",
   "mimetype": "text/x-python",
   "name": "python",
   "nbconvert_exporter": "python",
   "pygments_lexer": "ipython3",
   "version": "3.8.8"
  }
 },
 "nbformat": 4,
 "nbformat_minor": 5
}
