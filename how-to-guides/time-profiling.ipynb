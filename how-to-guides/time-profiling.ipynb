{
 "cells": [
  {
   "cell_type": "markdown",
   "id": "85890d95-1320-4b2a-a507-7dc382a63795",
   "metadata": {},
   "source": [
    "# How to do time profiling during training\n",
    "\n",
    "User can fetch times in several manners depending on complexity of\n",
    "required time profiling:"
   ]
  },
  {
   "cell_type": "markdown",
   "id": "5e47a131-8c77-49ed-b5c4-d0b3ec028bdc",
   "metadata": {},
   "source": [
    "## Single epoch and total time\n",
    "\n",
    "Simpliest way to fetch time of single epoch and complete training is to\n",
    "use `engine.state.times[\"EPOCH_COMPLETED\"]` and\n",
    "`engine.state.times[\"COMPLETED\"]`:"
   ]
  },
  {
   "cell_type": "code",
   "execution_count": null,
   "id": "a4c89016-991e-4d8d-a7e3-ed65872b4bbd",
   "metadata": {},
   "outputs": [],
   "source": [
    "trainer = ...\n",
    "\n",
    "@trainer.on(Events.EPOCH_COMPLETED)\n",
    "def log_epoch_time():\n",
    "    print(f\"{trainer.state.epoch}: {trainer.state.times['EPOCH_COMPLETED']}\")\n",
    "\n",
    "@trainer.on(Events.COMPLETED)\n",
    "def log_total_time():\n",
    "    print(f\"Total: {trainer.state.times['COMPLETED']}\")"
   ]
  },
  {
   "cell_type": "markdown",
   "id": "85aeadb4-6e77-4299-acc9-a6bf04de5593",
   "metadata": {},
   "source": [
    "For details, see [`State`](https://pytorch.org/ignite/v0.4.5/generated/ignite.engine.events.State.html#state)."
   ]
  },
  {
   "cell_type": "markdown",
   "id": "c05cb5d0-5c6b-4611-8e1f-99d372eb9f41",
   "metadata": {},
   "source": [
    "## Basic time profiling\n",
    "\n",
    "User can setup [`BasicTimeProfiler`](https://pytorch.org/ignite/v0.4.5/generated/ignite.contrib.handlers.time_profilers.BasicTimeProfiler.html#basictimeprofiler) to fetch times spent in data\n",
    "processing, training step, event handlers:"
   ]
  },
  {
   "cell_type": "code",
   "execution_count": null,
   "id": "2bfc8a34-bb60-4ab4-814b-49f196f195dd",
   "metadata": {},
   "outputs": [],
   "source": [
    "from ignite.contrib.handlers import BasicTimeProfiler\n",
    "\n",
    "trainer = ...\n",
    "\n",
    "# Create an object of the profiler and attach an engine to it\n",
    "profiler = BasicTimeProfiler()\n",
    "profiler.attach(trainer)\n",
    "\n",
    "@trainer.on(Events.EPOCH_COMPLETED(every=10))\n",
    "def log_intermediate_results():\n",
    "    profiler.print_results(profiler.get_results())\n",
    "\n",
    "trainer.run(dataloader, max_epochs=3)"
   ]
  },
  {
   "cell_type": "markdown",
   "id": "b9ee4456-a14d-4722-84d2-d685931694cc",
   "metadata": {},
   "source": [
    "Typical output:\n",
    "\n",
    "     ----------------------------------------------------\n",
    "    | Time profiling stats (in seconds):                 |\n",
    "     ----------------------------------------------------\n",
    "    total  |  min/index  |  max/index  |  mean  |  std\n",
    "\n",
    "    Processing function:\n",
    "    157.46292 | 0.01452/1501 | 0.26905/0 | 0.07730 | 0.01258\n",
    "\n",
    "    Dataflow:\n",
    "    6.11384 | 0.00008/1935 | 0.28461/1551 | 0.00300 | 0.02693\n",
    "\n",
    "    Event handlers:\n",
    "    2.82721\n",
    "\n",
    "    - Events.STARTED: []\n",
    "    0.00000\n",
    "\n",
    "    - Events.EPOCH_STARTED: []\n",
    "    0.00006 | 0.00000/0 | 0.00000/17 | 0.00000 | 0.00000\n",
    "\n",
    "    - Events.ITERATION_STARTED: ['PiecewiseLinear']\n",
    "    0.03482 | 0.00001/188 | 0.00018/679 | 0.00002 | 0.00001\n",
    "\n",
    "    - Events.ITERATION_COMPLETED: ['TerminateOnNan']\n",
    "    0.20037 | 0.00006/866 | 0.00089/1943 | 0.00010 | 0.00003\n",
    "\n",
    "    - Events.EPOCH_COMPLETED: ['empty_cuda_cache', 'training.<locals>.log_elapsed_time', ]\n",
    "    2.57860 | 0.11529/0 | 0.14977/13 | 0.12893 | 0.00790\n",
    "\n",
    "    - Events.COMPLETED: []\n",
    "    not yet triggered\n",
    "\n",
    "For details, see [`BasicTimeProfiler`](https://pytorch.org/ignite/v0.4.5/generated/ignite.contrib.handlers.time_profilers.BasicTimeProfiler.html#basictimeprofiler)"
   ]
  },
  {
   "cell_type": "markdown",
   "id": "61f1ea3f-894f-4d99-9030-3167ffca392d",
   "metadata": {},
   "source": [
    "## Event handlers time profiling\n",
    "\n",
    "If you want to get time breakdown per handler basis then you can setup\n",
    "[`HandlersTimeProfiler`](https://pytorch.org/ignite/v0.4.5/generated/ignite.contrib.handlers.time_profilers.HandlersTimeProfiler.html#ignite.contrib.handlers.time_profilers.HandlersTimeProfiler):"
   ]
  },
  {
   "cell_type": "code",
   "execution_count": null,
   "id": "16ee4456-6b95-4a33-8139-8937956ae0bb",
   "metadata": {},
   "outputs": [],
   "source": [
    "from ignite.contrib.handlers import HandlersTimeProfiler\n",
    "\n",
    "trainer = ...\n",
    "\n",
    "# Create an object of the profiler and attach an engine to it\n",
    "profiler = HandlersTimeProfiler()\n",
    "profiler.attach(trainer)\n",
    "\n",
    "@trainer.on(Events.EPOCH_COMPLETED(every=10))\n",
    "def log_intermediate_results():\n",
    "    profiler.print_results(profiler.get_results())\n",
    "\n",
    "trainer.run(dataloader, max_epochs=3)"
   ]
  },
  {
   "cell_type": "markdown",
   "id": "f727effe-010e-4b8a-90ea-7c8e3cc4a214",
   "metadata": {},
   "source": [
    "Typical output:\n",
    "\n",
    "    -----------------------------------------  -----------------------  -------------- ...\n",
    "    Handler                                    Event Name                     Total(s)\n",
    "    -----------------------------------------  -----------------------  --------------\n",
    "    run.<locals>.log_training_results          EPOCH_COMPLETED                19.43245\n",
    "    run.<locals>.log_validation_results        EPOCH_COMPLETED                 2.55271\n",
    "    run.<locals>.log_time                      EPOCH_COMPLETED                 0.00049\n",
    "    run.<locals>.log_intermediate_results      EPOCH_COMPLETED                 0.00106\n",
    "    run.<locals>.log_training_loss             ITERATION_COMPLETED               0.059\n",
    "    run.<locals>.log_time                      COMPLETED                 not triggered\n",
    "    -----------------------------------------  -----------------------  --------------\n",
    "    Total                                                                     22.04571\n",
    "    -----------------------------------------  -----------------------  --------------\n",
    "    Processing took total 11.29543s [min/index: 0.00393s/1875, max/index: 0.00784s/0,\n",
    "     mean: 0.00602s, std: 0.00034s]\n",
    "    Dataflow took total 16.24365s [min/index: 0.00533s/1874, max/index: 0.01129s/937,\n",
    "     mean: 0.00866s, std: 0.00113s]\n",
    "\n",
    "For details, see [`HandlersTimeProfiler`](https://pytorch.org/ignite/v0.4.5/generated/ignite.contrib.handlers.time_profilers.HandlersTimeProfiler.html#ignite.contrib.handlers.time_profilers.HandlersTimeProfiler)."
   ]
  },
  {
   "cell_type": "markdown",
   "id": "5611e3d7",
   "metadata": {},
   "source": [
    "## Custom time measures\n",
    "\n",
    "Custom time measures can be performed using [`Timer`](https://pytorch.org/ignite/v0.4.5/generated/ignite.handlers.timing.Timer.html#timer). See its\n",
    "docstring for details."
   ]
  }
 ],
 "metadata": {
  "kernelspec": {
   "display_name": "Python 3 (ipykernel)",
   "language": "python",
   "name": "python3"
  },
  "language_info": {
   "codemirror_mode": {
    "name": "ipython",
    "version": 3
   },
   "file_extension": ".py",
   "mimetype": "text/x-python",
   "name": "python",
   "nbconvert_exporter": "python",
   "pygments_lexer": "ipython3",
   "version": "3.8.8"
  }
 },
 "nbformat": 4,
 "nbformat_minor": 5
}
