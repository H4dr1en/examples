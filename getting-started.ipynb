{
 "cells": [
  {
   "cell_type": "markdown",
   "source": [
    "# Getting Started"
   ],
   "metadata": {}
  },
  {
   "cell_type": "markdown",
   "source": [
    "Welcome to **PyTorch-Ignite**’s quick start guide that covers the\n",
    "essentials of getting a project up and running while walking through\n",
    "basic concepts of Ignite. In just a few lines of code, you can get your\n",
    "model trained and validated. The complete code can be found at the end\n",
    "of this guide."
   ],
   "metadata": {}
  },
  {
   "cell_type": "markdown",
   "source": [
    "## Prerequisites\n",
    "\n",
    "This tutorial assumes you are familiar with the:\n",
    "\n",
    "1.  Basics of Python and deep learning\n",
    "2.  Structure of PyTorch code"
   ],
   "metadata": {}
  },
  {
   "cell_type": "markdown",
   "source": [
    "## Installation\n",
    "\n",
    "1.  From `pip`\n",
    "\n",
    "``` shell\n",
    "pip install pytorch-ignite\n",
    "```\n",
    "\n",
    "1.  From `conda`\n",
    "\n",
    "``` shell\n",
    "conda install ignite -c pytorch\n",
    "```\n",
    "\n",
    "See [here](/docs/how-to-guides/installation) for other installation\n",
    "options."
   ],
   "metadata": {}
  },
  {
   "cell_type": "markdown",
   "source": [
    "## Code\n",
    "\n",
    "Import the following:"
   ],
   "metadata": {}
  },
  {
   "cell_type": "code",
   "execution_count": 1,
   "source": [
    "import torch\n",
    "import torch.nn.functional as F\n",
    "from torch import nn\n",
    "from torch.optim import SGD\n",
    "from torch.utils.data import DataLoader\n",
    "from torchvision.datasets import MNIST\n",
    "from torchvision.transforms import Compose, Normalize, ToTensor\n",
    "from tqdm import tqdm\n",
    "\n",
    "from ignite.engine import Engine, Events, create_supervised_trainer, create_supervised_evaluator\n",
    "from ignite.metrics import Accuracy, Loss"
   ],
   "outputs": [],
   "metadata": {}
  },
  {
   "cell_type": "markdown",
   "source": [
    "Define a class of your model (or use the CNN model below) and then\n",
    "instantiate it:"
   ],
   "metadata": {}
  },
  {
   "cell_type": "code",
   "execution_count": 2,
   "source": [
    "class Net(nn.Module):\n",
    "\n",
    "    def __init__(self):\n",
    "        super(Net, self).__init__()\n",
    "\n",
    "        self.conv1 = nn.Conv2d(1, 10, kernel_size=5)\n",
    "        self.conv2 = nn.Conv2d(10, 20, kernel_size=5)\n",
    "        self.conv2_drop = nn.Dropout2d()\n",
    "        self.fc1 = nn.Linear(320, 50)\n",
    "        self.fc2 = nn.Linear(50, 10)\n",
    "\n",
    "    def forward(self, x):\n",
    "        x = F.relu(F.max_pool2d(self.conv1(x), 2))\n",
    "        x = F.relu(F.max_pool2d(self.conv2_drop(self.conv2(x)), 2))\n",
    "        x = x.view(-1, 320)\n",
    "        x = F.relu(self.fc1(x))\n",
    "        x = F.dropout(x, training=self.training)\n",
    "        x = self.fc2(x)\n",
    "\n",
    "        return F.log_softmax(x, dim=-1)\n",
    "\n",
    "model = Net()"
   ],
   "outputs": [],
   "metadata": {}
  },
  {
   "cell_type": "markdown",
   "source": [
    "Now let us define the training and validation datasets (as\n",
    "[torch.utils.data.DataLoader](https://pytorch.org/docs/stable/data.html#torch.utils.data.DataLoader))\n",
    "and store them in `train_loader` and `val_loader` respectively. We have\n",
    "used the [MNIST](https://pytorch.org/vision/stable/datasets.html#mnist)\n",
    "dataset for ease of understanding.\n"
   ],
   "metadata": {}
  },
  {
   "cell_type": "code",
   "execution_count": null,
   "source": [
    "def get_data_loaders(train_batch_size, val_batch_size):\n",
    "    # normalizing the data\n",
    "    data_transform = Compose([ToTensor(), Normalize((0.1307,), (0.3081,))])\n",
    "\n",
    "    train_loader = DataLoader(\n",
    "        MNIST(download=True, root=\".\", transform=data_transform, train=True), batch_size=train_batch_size, shuffle=True\n",
    "    )\n",
    "\n",
    "    val_loader = DataLoader(\n",
    "        MNIST(download=True, root=\".\", transform=data_transform, train=False), batch_size=val_batch_size, shuffle=False\n",
    "    )\n",
    "    return train_loader, val_loader\n",
    "\n",
    "train_loader, val_loader = get_data_loaders(train_batch_size=128, val_batch_size=256)"
   ],
   "outputs": [],
   "metadata": {}
  },
  {
   "cell_type": "markdown",
   "source": [
    "Finally, we will specify the optimizer and the loss function:"
   ],
   "metadata": {}
  },
  {
   "cell_type": "code",
   "execution_count": 4,
   "source": [
    "optimizer = torch.optim.SGD(model.parameters(), lr=0.01, momentum=0.8)\n",
    "criterion = nn.NLLLoss()"
   ],
   "outputs": [],
   "metadata": {}
  },
  {
   "cell_type": "markdown",
   "source": [
    "And we’re done with setting up the important parts of the project.\n",
    "PyTorch-Ignite will handle all other boilerplate code as we will see\n",
    "below. Next we have to define a trainer engine by passing our model,\n",
    "optimizer and loss function to\n",
    "[`create_supervised_trainer`](https://pytorch.org/ignite/generated/ignite.engine.create_supervised_trainer.html),\n",
    "and an evaluator engine by passing Ignite’s out-of-the-box\n",
    "[metrics](https://pytorch.org/ignite/metrics.html#complete-list-of-metrics)\n",
    "and the model to\n",
    "[`create_supervised_evaluator`](https://pytorch.org/ignite/v0.4.5/generated/ignite.engine.create_supervised_evaluator.html#create-supervised-evaluator)\n",
    ":"
   ],
   "metadata": {}
  },
  {
   "cell_type": "code",
   "execution_count": 5,
   "source": [
    "trainer = create_supervised_trainer(model, optimizer, criterion)\n",
    "\n",
    "val_metrics = {\n",
    "    \"accuracy\": Accuracy(),\n",
    "    \"nll\": Loss(criterion)\n",
    "}\n",
    "evaluator = create_supervised_evaluator(model, metrics=val_metrics)"
   ],
   "outputs": [],
   "metadata": {}
  },
  {
   "cell_type": "markdown",
   "source": [
    "Both `trainer` and `evaluator` objects are instances of\n",
    "[`Engine`](https://pytorch.org/ignite/v0.4.5/generated/ignite.engine.engine.Engine.html#ignite.engine.engine.Engine) - the main component of Ignite, which is essentially an abstraction over\n",
    "the training or validation loop.\n",
    "\n",
    "If you need more control over your training and validation loops, you\n",
    "can create custom `trainer` and `evaluator` objects by wrapping the step\n",
    "logic in `Engine` :\n",
    "\n",
    "```python\n",
    "device = torch.device(\"cuda\" if torch.cuda.is_available() else \"cpu\")\n",
    "\n",
    "def train_step(engine, batch):\n",
    "    model.train()\n",
    "    optimizer.zero_grad()\n",
    "    x, y = batch[0].to(device), batch[1].to(device)\n",
    "    y_pred = model(x)\n",
    "    loss = criterion(y_pred, y)\n",
    "    loss.backward()\n",
    "    optimizer.step()\n",
    "    return loss.item()\n",
    "\n",
    "trainer = Engine(train_step)\n",
    "\n",
    "def validation_step(engine, batch):\n",
    "    model.eval()\n",
    "    with torch.no_grad():\n",
    "        x, y = batch[0].to(device), batch[1].to(device)\n",
    "        y_pred = model(x)\n",
    "        return y_pred, y\n",
    "\n",
    "evaluator = Engine(validation_step)\n",
    "\n",
    "# Attach metrics to the evaluator\n",
    "for name, metric in val_metrics.items():\n",
    "    metric.attach(evaluator, name)\n",
    "```"
   ],
   "metadata": {}
  },
  {
   "cell_type": "markdown",
   "source": [
    "We can customize the code further by adding all kinds of event handlers.\n",
    "`Engine` allows adding handlers on various events that are triggered\n",
    "during the run. When an event is triggered, attached handlers\n",
    "(functions) are executed. Thus, for logging purposes we add a function\n",
    "to be executed at the end of every `log_interval`-th iteration:"
   ],
   "metadata": {}
  },
  {
   "cell_type": "code",
   "execution_count": 6,
   "source": [
    "# How many batches to wait before logging training status\n",
    "log_interval=100"
   ],
   "outputs": [],
   "metadata": {}
  },
  {
   "cell_type": "code",
   "execution_count": 7,
   "source": [
    "@trainer.on(Events.ITERATION_COMPLETED(every=log_interval))\n",
    "def log_training_loss(engine):\n",
    "    print(f\"Epoch[{engine.state.epoch}] Loss: {engine.state.output:.2f}\")"
   ],
   "outputs": [],
   "metadata": {}
  },
  {
   "cell_type": "markdown",
   "source": [
    "or equivalently without the decorator but attaching the handler function\n",
    "to the `trainer` via\n",
    "[`add_event_handler`](https://pytorch.org/ignite/v0.4.5/generated/ignite.engine.engine.Engine.html#ignite.engine.engine.Engine.add_event_handler)\n",
    "\n",
    "``` python\n",
    "def log_training_loss(engine):\n",
    "    print(f\"Epoch[{engine.state.epoch}] Loss: {engine.state.output:.2f}\")\n",
    "\n",
    "trainer.add_event_handler(Events.ITERATION_COMPLETED, log_training_loss)\n",
    "```"
   ],
   "metadata": {}
  },
  {
   "cell_type": "markdown",
   "source": [
    "After an epoch ends during training, we can compute the training and\n",
    "validation metrics by running `evaluator` on `train_loader` and\n",
    "`val_loader`. Hence we will attach two additional handlers to `trainer`\n",
    "when an epoch completes:"
   ],
   "metadata": {}
  },
  {
   "cell_type": "code",
   "execution_count": 8,
   "source": [
    "@trainer.on(Events.EPOCH_COMPLETED)\n",
    "def log_training_results(trainer):\n",
    "    evaluator.run(train_loader)\n",
    "    metrics = evaluator.state.metrics\n",
    "    print(f\"Training Results - Epoch[{trainer.state.epoch}] Avg accuracy: {metrics['accuracy']:.2f} Avg loss: {metrics['nll']:.2f}\")\n",
    "\n",
    "@trainer.on(Events.EPOCH_COMPLETED)\n",
    "def log_validation_results(trainer):\n",
    "    evaluator.run(val_loader)\n",
    "    metrics = evaluator.state.metrics\n",
    "    print(f\"Validation Results - Epoch[{trainer.state.epoch}] Avg accuracy: {metrics['accuracy']:.2f} Avg loss: {metrics['nll']:.2f}\")"
   ],
   "outputs": [],
   "metadata": {}
  },
  {
   "cell_type": "markdown",
   "source": [
    "Finally, we start the engine on the training dataset and run it for 5\n",
    "epochs:"
   ],
   "metadata": {}
  },
  {
   "cell_type": "code",
   "execution_count": 9,
   "source": [
    "trainer.run(train_loader, max_epochs=5)"
   ],
   "outputs": [
    {
     "output_type": "stream",
     "name": "stdout",
     "text": [
      "Epoch[1] Loss: 1.16\n",
      "Epoch[1] Loss: 0.59\n",
      "Epoch[1] Loss: 0.56\n",
      "Epoch[1] Loss: 0.39\n",
      "Training Results - Epoch[1] Avg accuracy: 0.94 Avg loss: 0.21\n",
      "Validation Results - Epoch[1] Avg accuracy: 0.94 Avg loss: 0.19\n",
      "Epoch[2] Loss: 0.53\n",
      "Epoch[2] Loss: 0.61\n",
      "Epoch[2] Loss: 0.42\n",
      "Epoch[2] Loss: 0.28\n",
      "Epoch[2] Loss: 0.34\n",
      "Training Results - Epoch[2] Avg accuracy: 0.96 Avg loss: 0.13\n",
      "Validation Results - Epoch[2] Avg accuracy: 0.96 Avg loss: 0.12\n",
      "Epoch[3] Loss: 0.50\n",
      "Epoch[3] Loss: 0.32\n",
      "Epoch[3] Loss: 0.43\n",
      "Epoch[3] Loss: 0.12\n",
      "Epoch[3] Loss: 0.22\n",
      "Training Results - Epoch[3] Avg accuracy: 0.97 Avg loss: 0.10\n",
      "Validation Results - Epoch[3] Avg accuracy: 0.97 Avg loss: 0.09\n",
      "Epoch[4] Loss: 0.22\n",
      "Epoch[4] Loss: 0.27\n",
      "Epoch[4] Loss: 0.29\n",
      "Epoch[4] Loss: 0.33\n",
      "Training Results - Epoch[4] Avg accuracy: 0.97 Avg loss: 0.09\n",
      "Validation Results - Epoch[4] Avg accuracy: 0.97 Avg loss: 0.08\n",
      "Epoch[5] Loss: 0.33\n",
      "Epoch[5] Loss: 0.26\n",
      "Epoch[5] Loss: 0.11\n",
      "Epoch[5] Loss: 0.26\n",
      "Epoch[5] Loss: 0.24\n",
      "Training Results - Epoch[5] Avg accuracy: 0.98 Avg loss: 0.08\n",
      "Validation Results - Epoch[5] Avg accuracy: 0.98 Avg loss: 0.07\n"
     ]
    },
    {
     "output_type": "execute_result",
     "data": {
      "text/plain": [
       "State:\n",
       "\titeration: 2345\n",
       "\tepoch: 5\n",
       "\tepoch_length: 469\n",
       "\tmax_epochs: 5\n",
       "\toutput: 0.16883324086666107\n",
       "\tbatch: <class 'list'>\n",
       "\tmetrics: <class 'dict'>\n",
       "\tdataloader: <class 'torch.utils.data.dataloader.DataLoader'>\n",
       "\tseed: <class 'NoneType'>\n",
       "\ttimes: <class 'dict'>"
      ]
     },
     "metadata": {},
     "execution_count": 9
    }
   ],
   "metadata": {}
  },
  {
   "cell_type": "markdown",
   "source": [
    "## Next Steps\n",
    "\n",
    "1.  Check out [tutorials](/docs/tutorials) if you want to continue\n",
    "    learning more about PyTorch-Ignite.\n",
    "2.  Head over to [how-to guides](/docs/how-to-guides) if you’re looking\n",
    "    for a specific problem.\n",
    "3.  If you want to set-up a PyTorch-Ignite project, visit [Code\n",
    "    Generator](https://code-generator.netlify.app/) to get a variety of\n",
    "    easily customizable templates and out-of-the-box features."
   ],
   "metadata": {}
  },
  {
   "cell_type": "markdown",
   "source": [
    "## Complete Code\n",
    "\n",
    "``` python\n",
    "import torch\n",
    "import torch.nn.functional as F\n",
    "from torch import nn\n",
    "from torch.optim import SGD\n",
    "from torch.utils.data import DataLoader\n",
    "from torchvision.datasets import MNIST\n",
    "from torchvision.transforms import Compose, Normalize, ToTensor\n",
    "from tqdm import tqdm\n",
    "\n",
    "from ignite.engine import Events, create_supervised_trainer, create_supervised_evaluator\n",
    "from ignite.metrics import Accuracy, Loss\n",
    "\n",
    "class Net(nn.Module):\n",
    "\n",
    "    def __init__(self):\n",
    "        super(Net, self).__init__()\n",
    "\n",
    "        self.conv1 = nn.Conv2d(1, 10, kernel_size=5)\n",
    "        self.conv2 = nn.Conv2d(10, 20, kernel_size=5)\n",
    "        self.conv2_drop = nn.Dropout2d()\n",
    "        self.fc1 = nn.Linear(320, 50)\n",
    "        self.fc2 = nn.Linear(50, 10)\n",
    "\n",
    "    def forward(self, x):\n",
    "        x = F.relu(F.max_pool2d(self.conv1(x), 2))\n",
    "        x = F.relu(F.max_pool2d(self.conv2_drop(self.conv2(x)), 2))\n",
    "        x = x.view(-1, 320)\n",
    "        x = F.relu(self.fc1(x))\n",
    "        x = F.dropout(x, training=self.training)\n",
    "        x = self.fc2(x)\n",
    "\n",
    "        return F.log_softmax(x, dim=-1)\n",
    "\n",
    "model = Net()\n",
    "\n",
    "def get_data_loaders(train_batch_size, val_batch_size):\n",
    "    # normalizing the data\n",
    "    data_transform = Compose([ToTensor(), Normalize((0.1307,), (0.3081,))])\n",
    "\n",
    "    train_loader = DataLoader(\n",
    "        MNIST(download=True, root=\".\", transform=data_transform, train=True), batch_size=train_batch_size, shuffle=True\n",
    "    )\n",
    "\n",
    "    val_loader = DataLoader(\n",
    "        MNIST(download=True, root=\".\", transform=data_transform, train=False), batch_size=val_batch_size, shuffle=False\n",
    "    )\n",
    "    return train_loader, val_loader\n",
    "\n",
    "train_loader, val_loader = get_data_loaders(train_batch_size=128, val_batch_size=256)\n",
    "\n",
    "optimizer = torch.optim.SGD(model.parameters(), lr=0.01, momentum=0.8)\n",
    "criterion = nn.NLLLoss()\n",
    "\n",
    "trainer = create_supervised_trainer(model, optimizer, criterion)\n",
    "\n",
    "val_metrics = {\n",
    "    \"accuracy\": Accuracy(),\n",
    "    \"nll\": Loss(criterion)\n",
    "}\n",
    "evaluator = create_supervised_evaluator(model, metrics=val_metrics)\n",
    "\n",
    "# how many batches to wait before logging training status\n",
    "log_interval=20\n",
    "\n",
    "@trainer.on(Events.ITERATION_COMPLETED(every=log_interval))\n",
    "def log_training_loss(engine):\n",
    "    print(f\"Epoch[{engine.state.epoch}] Loss: {engine.state.output:.2f}\")\n",
    "\n",
    "@trainer.on(Events.EPOCH_COMPLETED)\n",
    "def log_training_results(trainer):\n",
    "    evaluator.run(train_loader)\n",
    "    metrics = evaluator.state.metrics\n",
    "    print(f\"Training Results - Epoch[{trainer.state.epoch}] Avg accuracy: {metrics['accuracy']:.2f} Avg loss: {metrics['nll']:.2f}\")\n",
    "\n",
    "@trainer.on(Events.EPOCH_COMPLETED)\n",
    "def log_validation_results(trainer):\n",
    "    evaluator.run(val_loader)\n",
    "    metrics = evaluator.state.metrics\n",
    "    print(f\"Validation Results - Epoch[{trainer.state.epoch}] Avg accuracy: {metrics['accuracy']:.2f} Avg loss: {metrics['nll']:.2f}\")\n",
    "\n",
    "trainer.run(train_loader, max_epochs=5)\n",
    "```"
   ],
   "metadata": {
    "tags": []
   }
  }
 ],
 "metadata": {
  "kernelspec": {
   "display_name": "Python 3 (ipykernel)",
   "language": "python",
   "name": "python3"
  },
  "language_info": {
   "codemirror_mode": {
    "name": "ipython",
    "version": 3
   },
   "file_extension": ".py",
   "mimetype": "text/x-python",
   "name": "python",
   "nbconvert_exporter": "python",
   "pygments_lexer": "ipython3",
   "version": "3.8.8"
  }
 },
 "nbformat": 4,
 "nbformat_minor": 5
}